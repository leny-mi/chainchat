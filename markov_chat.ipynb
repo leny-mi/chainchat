{
 "cells": [
  {
   "cell_type": "code",
   "execution_count": 1,
   "metadata": {},
   "outputs": [],
   "source": [
    "import pykov\n",
    "import json"
   ]
  },
  {
   "cell_type": "code",
   "execution_count": 2,
   "metadata": {},
   "outputs": [],
   "source": [
    "word_matrices = {}"
   ]
  },
  {
   "cell_type": "code",
   "execution_count": 3,
   "metadata": {},
   "outputs": [],
   "source": [
    "data = json.load(open('geekhub_off-topic.json')) # load data"
   ]
  },
  {
   "cell_type": "code",
   "execution_count": 4,
   "metadata": {},
   "outputs": [],
   "source": [
    "# reformat data\n",
    "messages = []\n",
    "for mes in data['messages']:\n",
    "    messages.append((mes['author']['name'], mes['content']))"
   ]
  },
  {
   "cell_type": "code",
   "execution_count": 5,
   "metadata": {},
   "outputs": [],
   "source": [
    "Musers = pykov.Matrix()\n",
    "for mes, nxt in zip(messages[:-1], messages[1:]):\n",
    "    if (mes[0], nxt[0]) not in Musers: Musers[(mes[0], nxt[0])] = 0\n",
    "    Musers[(mes[0], nxt[0])] = Musers[(mes[0], nxt[0])] + 1\n",
    "Musers.stochastic()"
   ]
  },
  {
   "cell_type": "code",
   "execution_count": 6,
   "metadata": {},
   "outputs": [],
   "source": [
    "def printmessages(n):\n",
    "    user = pykov.Vector({'Lenny':1}) # starting point for markov chain\n",
    "    for _ in range(n):\n",
    "        choice = (user * Musers).choose() # choose next user to write a message\n",
    "        user = pykov.Vector({choice: 1}) # create pykov vector for future user calculation\n",
    "\n",
    "        if choice in word_matrices:\n",
    "            Mword = word_matrices[choice]\n",
    "        else: # create word matrix\n",
    "            Mword = pykov.Matrix({(1, 1) : 1}) # create matrix for word chain\n",
    "            for mes in [m for m in messages if m[0] == choice]: # add every word to matrix\n",
    "                splt = mes[1].split(' ')\n",
    "                if (0, splt[0]) not in Mword: Mword[(0, splt[0])] = 0\n",
    "                Mword[(0, splt[0])] += 1\n",
    "                for word, nxt in zip(splt[:-1], splt[1:]):\n",
    "                    if (word, nxt) not in Mword: Mword[(word, nxt)] = 0\n",
    "                    Mword[(word, nxt)] += 1\n",
    "                if (splt[-1], 1) not in Mword: Mword[(splt[-1], 1)] = 0\n",
    "                Mword[(splt[-1], 1)] += 1\n",
    "            Mword.stochastic()\n",
    "            word_matrices[choice] = Mword\n",
    "            \n",
    "        C = pykov.Chain(Mword)\n",
    "        print(choice + \":\", \" \".join(C.walk(100, 0, 1)[1:-1]))"
   ]
  },
  {
   "cell_type": "code",
   "execution_count": 7,
   "metadata": {},
   "outputs": [],
   "source": [
    "printmessages(0)"
   ]
  },
  {
   "cell_type": "code",
   "execution_count": null,
   "metadata": {},
   "outputs": [],
   "source": []
  }
 ],
 "metadata": {
  "kernelspec": {
   "display_name": "Python 3",
   "language": "python",
   "name": "python3"
  },
  "language_info": {
   "codemirror_mode": {
    "name": "ipython",
    "version": 3
   },
   "file_extension": ".py",
   "mimetype": "text/x-python",
   "name": "python",
   "nbconvert_exporter": "python",
   "pygments_lexer": "ipython3",
   "version": "3.7.6"
  }
 },
 "nbformat": 4,
 "nbformat_minor": 4
}
